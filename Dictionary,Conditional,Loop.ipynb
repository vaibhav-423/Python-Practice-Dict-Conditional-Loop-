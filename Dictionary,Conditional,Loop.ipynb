{
 "cells": [
  {
   "cell_type": "code",
   "execution_count": 4,
   "id": "7d8d0471-5d1f-439a-b536-1bcd4af88f1a",
   "metadata": {},
   "outputs": [],
   "source": [
    "d={}"
   ]
  },
  {
   "cell_type": "code",
   "execution_count": 5,
   "id": "190609be-6f90-4e7c-98a5-ac10ecca89a3",
   "metadata": {},
   "outputs": [
    {
     "data": {
      "text/plain": [
       "dict"
      ]
     },
     "execution_count": 5,
     "metadata": {},
     "output_type": "execute_result"
    }
   ],
   "source": [
    "type(d)"
   ]
  },
  {
   "cell_type": "code",
   "execution_count": 23,
   "id": "48491473-8b3f-49e8-81bd-3071b87122c3",
   "metadata": {},
   "outputs": [],
   "source": [
    "d2={'name':'vaibhav' , \"email\":'@123' , \"number\":90321}"
   ]
  },
  {
   "cell_type": "code",
   "execution_count": 24,
   "id": "50e00d8b-2b09-4fa8-a6d8-c46cdaba1c85",
   "metadata": {},
   "outputs": [
    {
     "data": {
      "text/plain": [
       "{'name': 'vaibhav', 'email': '@123', 'number': '90321'}"
      ]
     },
     "execution_count": 24,
     "metadata": {},
     "output_type": "execute_result"
    }
   ],
   "source": [
    "d2"
   ]
  },
  {
   "cell_type": "code",
   "execution_count": 26,
   "id": "fc23edde-7793-4653-b455-6d646f697749",
   "metadata": {},
   "outputs": [
    {
     "data": {
      "text/plain": [
       "'90321'"
      ]
     },
     "execution_count": 27,
     "metadata": {},
     "output_type": "execute_result"
    }
   ],
   "source": [
    "d2[\"number\"]"
   ]
  },
  {
   "cell_type": "code",
   "execution_count": 31,
   "id": "26df7467-e3e1-47b3-8a4a-f6205d170947",
   "metadata": {},
   "outputs": [],
   "source": [
    "d={}"
   ]
  },
  {
   "cell_type": "code",
   "execution_count": 32,
   "id": "6548b44b-02f1-442f-a72e-0a4ad114c2d9",
   "metadata": {},
   "outputs": [
    {
     "data": {
      "text/plain": [
       "dict"
      ]
     },
     "execution_count": 32,
     "metadata": {},
     "output_type": "execute_result"
    }
   ],
   "source": [
    "type(d)"
   ]
  },
  {
   "cell_type": "code",
   "execution_count": 33,
   "id": "3f2d875d-9f98-4146-8d5e-1fb0b733d07f",
   "metadata": {},
   "outputs": [],
   "source": [
    "d4={'name':'vaibhav', 'mail-id':'vaibhavbavaskar423@gmail.com' , 'name':'bavaskar'}"
   ]
  },
  {
   "cell_type": "code",
   "execution_count": 34,
   "id": "fadd9def-d1ba-42bb-9a8e-c7abf5f56aba",
   "metadata": {},
   "outputs": [
    {
     "data": {
      "text/plain": [
       "'bavaskar'"
      ]
     },
     "execution_count": 34,
     "metadata": {},
     "output_type": "execute_result"
    }
   ],
   "source": [
    "d4['name']"
   ]
  },
  {
   "cell_type": "code",
   "execution_count": 39,
   "id": "26f6d22e-406c-4569-80c4-c00e9f288bf9",
   "metadata": {},
   "outputs": [],
   "source": [
    "d5={'company':'pw', 'courses':['web dev','data science', 'java dsa' ]}"
   ]
  },
  {
   "cell_type": "code",
   "execution_count": 40,
   "id": "d1186a96-b23a-4d80-b1ad-8b45ad2180e8",
   "metadata": {},
   "outputs": [
    {
     "data": {
      "text/plain": [
       "['web dev', 'data science', 'java dsa']"
      ]
     },
     "execution_count": 40,
     "metadata": {},
     "output_type": "execute_result"
    }
   ],
   "source": [
    " d5['courses']"
   ]
  },
  {
   "cell_type": "code",
   "execution_count": 41,
   "id": "d191119f-5eef-4ac4-9b2d-c860fa1f9974",
   "metadata": {},
   "outputs": [
    {
     "data": {
      "text/plain": [
       "{'company': 'pw', 'courses': ['web dev', 'data science', 'java dsa']}"
      ]
     },
     "execution_count": 41,
     "metadata": {},
     "output_type": "execute_result"
    }
   ],
   "source": [
    "d5"
   ]
  },
  {
   "cell_type": "code",
   "execution_count": 42,
   "id": "8e60229b-098b-4ebd-b1e1-27f269884fd1",
   "metadata": {},
   "outputs": [
    {
     "data": {
      "text/plain": [
       "'data science'"
      ]
     },
     "execution_count": 42,
     "metadata": {},
     "output_type": "execute_result"
    }
   ],
   "source": [
    "d5['courses'][1]"
   ]
  },
  {
   "cell_type": "code",
   "execution_count": 47,
   "id": "26ed8d5b-dbfc-43fd-ab75-d4e39d42af21",
   "metadata": {},
   "outputs": [],
   "source": [
    "d6={'number':[11,22,33,44,55,66,77,88] , 'assignments': (1,2,3,4,5,6,7) ,'launch_date':{28,12,14} , 'class time':{'data science': 11.00  , 'java':7 }    }"
   ]
  },
  {
   "cell_type": "code",
   "execution_count": 48,
   "id": "4d1434ee-3afb-4ca3-9ef2-1d07e87a1c5c",
   "metadata": {},
   "outputs": [
    {
     "data": {
      "text/plain": [
       "{'number': [11, 22, 33, 44, 55, 66, 77, 88],\n",
       " 'assignments': (1, 2, 3, 4, 5, 6, 7),\n",
       " 'launch_date': {12, 14, 28},\n",
       " 'class time': {'data science': 11.0, 'java': 7}}"
      ]
     },
     "execution_count": 48,
     "metadata": {},
     "output_type": "execute_result"
    }
   ],
   "source": [
    "d6"
   ]
  },
  {
   "cell_type": "code",
   "execution_count": 65,
   "id": "b40e1157-9b28-4175-91dd-3c8221e0843b",
   "metadata": {},
   "outputs": [
    {
     "data": {
      "text/plain": [
       "[11, 22, 33, 44, 55, 66, 77, 88]"
      ]
     },
     "execution_count": 65,
     "metadata": {},
     "output_type": "execute_result"
    }
   ],
   "source": [
    "d6['number']"
   ]
  },
  {
   "cell_type": "code",
   "execution_count": 51,
   "id": "9a85feaa-028e-41c6-87a6-bee2d6b98fcf",
   "metadata": {},
   "outputs": [
    {
     "data": {
      "text/plain": [
       "5"
      ]
     },
     "execution_count": 51,
     "metadata": {},
     "output_type": "execute_result"
    }
   ],
   "source": [
    "d6['assignments'][4]"
   ]
  },
  {
   "cell_type": "code",
   "execution_count": 53,
   "id": "0edf64db-543b-4597-a580-34e2ffd148b3",
   "metadata": {},
   "outputs": [
    {
     "ename": "TypeError",
     "evalue": "'set' object is not subscriptable",
     "output_type": "error",
     "traceback": [
      "\u001b[0;31m---------------------------------------------------------------------------\u001b[0m",
      "\u001b[0;31mTypeError\u001b[0m                                 Traceback (most recent call last)",
      "Cell \u001b[0;32mIn[53], line 1\u001b[0m\n\u001b[0;32m----> 1\u001b[0m \u001b[43md6\u001b[49m\u001b[43m[\u001b[49m\u001b[38;5;124;43m'\u001b[39;49m\u001b[38;5;124;43mlaunch_date\u001b[39;49m\u001b[38;5;124;43m'\u001b[39;49m\u001b[43m]\u001b[49m\u001b[43m[\u001b[49m\u001b[38;5;241;43m2\u001b[39;49m\u001b[43m]\u001b[49m\n",
      "\u001b[0;31mTypeError\u001b[0m: 'set' object is not subscriptable"
     ]
    }
   ],
   "source": [
    "d6['launch_date'][2]"
   ]
  },
  {
   "cell_type": "code",
   "execution_count": 55,
   "id": "4800cb7e-fb27-4cb9-a83b-0aaf1818b6d8",
   "metadata": {},
   "outputs": [
    {
     "data": {
      "text/plain": [
       "{12, 14, 28}"
      ]
     },
     "execution_count": 55,
     "metadata": {},
     "output_type": "execute_result"
    }
   ],
   "source": [
    "d6['launch_date']"
   ]
  },
  {
   "cell_type": "code",
   "execution_count": 56,
   "id": "8e693c46-0070-4c80-aec9-7429d5542122",
   "metadata": {},
   "outputs": [
    {
     "data": {
      "text/plain": [
       "11.0"
      ]
     },
     "execution_count": 56,
     "metadata": {},
     "output_type": "execute_result"
    }
   ],
   "source": [
    "d6['class time']['data science']"
   ]
  },
  {
   "cell_type": "code",
   "execution_count": 58,
   "id": "37eda365-20d5-4377-889b-1d7d3edbc550",
   "metadata": {},
   "outputs": [],
   "source": [
    "d6['mentor']=['sudhanshu' ,'ksina bhai' ,'raj']"
   ]
  },
  {
   "cell_type": "code",
   "execution_count": 59,
   "id": "a481c122-eb4c-426f-a90a-2698ccabdcd2",
   "metadata": {},
   "outputs": [
    {
     "data": {
      "text/plain": [
       "{'number': [11, 22, 33, 44, 55, 66, 77, 88],\n",
       " 'assignments': (1, 2, 3, 4, 5, 6, 7),\n",
       " 'launch_date': {12, 14, 28},\n",
       " 'class time': {'data science': 11.0, 'java': 7},\n",
       " 'mentor': ['sudhanshu', 'ksina bhai', 'raj']}"
      ]
     },
     "execution_count": 59,
     "metadata": {},
     "output_type": "execute_result"
    }
   ],
   "source": [
    "d6"
   ]
  },
  {
   "cell_type": "code",
   "execution_count": 60,
   "id": "adeef276-3bcd-49ac-b6fc-e2c4d18039d4",
   "metadata": {},
   "outputs": [
    {
     "data": {
      "text/plain": [
       "dict_items([('number', [11, 22, 33, 44, 55, 66, 77, 88]), ('assignments', (1, 2, 3, 4, 5, 6, 7)), ('launch_date', {28, 12, 14}), ('class time', {'data science': 11.0, 'java': 7}), ('mentor', ['sudhanshu', 'ksina bhai', 'raj'])])"
      ]
     },
     "execution_count": 60,
     "metadata": {},
     "output_type": "execute_result"
    }
   ],
   "source": [
    "d6.items()"
   ]
  },
  {
   "cell_type": "code",
   "execution_count": 63,
   "id": "9565ebd6-5986-46e2-87c0-08a51bdf1851",
   "metadata": {},
   "outputs": [
    {
     "data": {
      "text/plain": [
       "dict_keys(['number', 'assignments', 'launch_date', 'class time', 'mentor'])"
      ]
     },
     "execution_count": 63,
     "metadata": {},
     "output_type": "execute_result"
    }
   ],
   "source": [
    "d6.keys()"
   ]
  },
  {
   "cell_type": "code",
   "execution_count": 64,
   "id": "d51b352c-5aab-4641-9e0a-d824815f7d2e",
   "metadata": {},
   "outputs": [
    {
     "data": {
      "text/plain": [
       "[11, 22, 33, 44, 55, 66, 77, 88]"
      ]
     },
     "execution_count": 64,
     "metadata": {},
     "output_type": "execute_result"
    }
   ],
   "source": [
    "d6.get('number')"
   ]
  },
  {
   "cell_type": "code",
   "execution_count": 68,
   "id": "51538384-021e-43a9-9fe2-773f555f6793",
   "metadata": {},
   "outputs": [],
   "source": [
    "d6['number']=[111 ,222,333 ,444,555,666]  ## i will chnage the values in previous number"
   ]
  },
  {
   "cell_type": "code",
   "execution_count": null,
   "id": "7ac64313-fb64-41d6-8026-52013293a486",
   "metadata": {},
   "outputs": [
    {
     "data": {
      "text/plain": [
       "{'number': [111, 222, 333, 444, 555, 666],\n",
       " 'assignments': (1, 2, 3, 4, 5, 6, 7),\n",
       " 'launch_date': {12, 14, 28},\n",
       " 'class time': {'data science': 11.0, 'java': 7},\n",
       " 'mentor': ['sudhanshu', 'ksina bhai', 'raj']}"
      ]
     },
     "execution_count": 69,
     "metadata": {},
     "output_type": "execute_result"
    }
   ],
   "source": [
    "d6"
   ]
  },
  {
   "cell_type": "code",
   "execution_count": 70,
   "id": "5a0b4606-bbc8-478f-8231-029d8a88d8f9",
   "metadata": {},
   "outputs": [],
   "source": [
    "del d6['number']"
   ]
  },
  {
   "cell_type": "code",
   "execution_count": 71,
   "id": "4e2a2063-9dfb-42c7-a1da-5f7e93070f7a",
   "metadata": {},
   "outputs": [
    {
     "data": {
      "text/plain": [
       "{'assignments': (1, 2, 3, 4, 5, 6, 7),\n",
       " 'launch_date': {12, 14, 28},\n",
       " 'class time': {'data science': 11.0, 'java': 7},\n",
       " 'mentor': ['sudhanshu', 'ksina bhai', 'raj']}"
      ]
     },
     "execution_count": 71,
     "metadata": {},
     "output_type": "execute_result"
    }
   ],
   "source": [
    "d6"
   ]
  },
  {
   "cell_type": "code",
   "execution_count": 76,
   "id": "3dd9d946-67aa-47de-affb-d4c3f269c4e0",
   "metadata": {},
   "outputs": [
    {
     "data": {
      "text/plain": [
       "[('assignments', (1, 2, 3, 4, 5, 6, 7)),\n",
       " ('launch_date', {12, 14, 28}),\n",
       " ('class time', {'data science': 11.0, 'java': 7}),\n",
       " ('mentor', ['sudhanshu', 'ksina bhai', 'raj'])]"
      ]
     },
     "execution_count": 76,
     "metadata": {},
     "output_type": "execute_result"
    }
   ],
   "source": [
    "list(d6.items())"
   ]
  },
  {
   "cell_type": "code",
   "execution_count": 84,
   "id": "7c35f265-3b7e-463b-8dec-16eb935adcda",
   "metadata": {},
   "outputs": [
    {
     "name": "stdin",
     "output_type": "stream",
     "text": [
      "enter a marks  56\n"
     ]
    },
    {
     "name": "stdout",
     "output_type": "stream",
     "text": [
      "you will part of A2 batch\n"
     ]
    }
   ],
   "source": [
    "marks=int(input(\"enter a marks \"))\n",
    "if (marks >=80):\n",
    "    print(\"you will part of A0 batch\")\n",
    "elif(marks>=60 and marks< 80):\n",
    "    print(\"you will part of A1 batch\")\n",
    "elif(marks>=40 and marks<60):\n",
    "    print(\"you will part of A2 batch\")\n",
    "else:\n",
    "    print(\"you wii part of A3 batch\")"
   ]
  },
  {
   "cell_type": "code",
   "execution_count": 95,
   "id": "5fe7e6e9-750f-4dc0-b877-f80b65b10595",
   "metadata": {},
   "outputs": [],
   "source": [
    "l=[11,12,13,14,15,16]"
   ]
  },
  {
   "cell_type": "code",
   "execution_count": 96,
   "id": "f4debfe0-2e92-425f-9680-75f435fb824f",
   "metadata": {},
   "outputs": [
    {
     "data": {
      "text/plain": [
       "[11, 12, 13, 14, 15, 16]"
      ]
     },
     "execution_count": 96,
     "metadata": {},
     "output_type": "execute_result"
    }
   ],
   "source": [
    "l"
   ]
  },
  {
   "cell_type": "code",
   "execution_count": 97,
   "id": "7a1589d6-dd10-498a-9532-1ce7c2c4d833",
   "metadata": {},
   "outputs": [
    {
     "name": "stdout",
     "output_type": "stream",
     "text": [
      "12\n",
      "13\n",
      "14\n",
      "15\n",
      "16\n",
      "17\n"
     ]
    },
    {
     "data": {
      "text/plain": [
       "[12, 13, 14, 15, 16, 17]"
      ]
     },
     "execution_count": 97,
     "metadata": {},
     "output_type": "execute_result"
    }
   ],
   "source": [
    "l1=[]\n",
    "for i in l:\n",
    "    print(i+1)\n",
    "    l1.append(i+1)\n",
    "l1    "
   ]
  },
  {
   "cell_type": "code",
   "execution_count": 98,
   "id": "34549b5f-36ab-4cf9-9055-78fb5e49f149",
   "metadata": {},
   "outputs": [],
   "source": [
    "l3=['vaibhav', 'bavaskar' , 'ssgmce' , 'shegaon', 'khamgaon']"
   ]
  },
  {
   "cell_type": "code",
   "execution_count": 103,
   "id": "d0e57179-9ad8-48f8-b92d-229f36818207",
   "metadata": {},
   "outputs": [
    {
     "name": "stdout",
     "output_type": "stream",
     "text": [
      "vaibhav\n",
      "bavaskar\n",
      "ssgmce\n",
      "shegaon\n",
      "khamgaon\n"
     ]
    }
   ],
   "source": [
    "l4=[]\n",
    "for i in l3 :\n",
    "    print(i)\n",
    "    l4.append(i.upper() )\n",
    "    "
   ]
  },
  {
   "cell_type": "code",
   "execution_count": 104,
   "id": "1b82c60d-39b5-49a7-b0a8-3a3060fa22a2",
   "metadata": {},
   "outputs": [
    {
     "data": {
      "text/plain": [
       "['VAIBHAV', 'BAVASKAR', 'SSGMCE', 'SHEGAON', 'KHAMGAON']"
      ]
     },
     "execution_count": 104,
     "metadata": {},
     "output_type": "execute_result"
    }
   ],
   "source": [
    "l4"
   ]
  },
  {
   "cell_type": "code",
   "execution_count": 111,
   "id": "54b9de80-a3c5-4e9c-a6bf-12eacd333ccb",
   "metadata": {},
   "outputs": [],
   "source": [
    "l55=[1,2,3,4,4,5,\"vaibhav\",\"bavaskar\", 66,89, 'abc' ]"
   ]
  },
  {
   "cell_type": "code",
   "execution_count": 112,
   "id": "dc5db7da-1844-4393-94af-33773ad86544",
   "metadata": {},
   "outputs": [],
   "source": [
    "lint=[]\n",
    "lstr=[]\n",
    "\n",
    "for i in l55:\n",
    "    if(type(i)==int):\n",
    "        lint.append(i)\n",
    "    else:\n",
    "        lstr.append(i)\n"
   ]
  },
  {
   "cell_type": "code",
   "execution_count": 113,
   "id": "6f7f62f3-4ce6-4187-b5a8-e1304d5b399f",
   "metadata": {},
   "outputs": [
    {
     "data": {
      "text/plain": [
       "[1, 2, 3, 4, 4, 5, 66, 89]"
      ]
     },
     "execution_count": 113,
     "metadata": {},
     "output_type": "execute_result"
    }
   ],
   "source": [
    "lint"
   ]
  },
  {
   "cell_type": "code",
   "execution_count": 114,
   "id": "4446a65c-7732-4f8a-890a-252fd7afa96b",
   "metadata": {},
   "outputs": [
    {
     "data": {
      "text/plain": [
       "['vaibhav', 'bavaskar', 'abc']"
      ]
     },
     "execution_count": 114,
     "metadata": {},
     "output_type": "execute_result"
    }
   ],
   "source": [
    "lstr"
   ]
  },
  {
   "cell_type": "code",
   "execution_count": null,
   "id": "cf41f895-ef64-41b1-853d-efd08110533b",
   "metadata": {},
   "outputs": [],
   "source": []
  }
 ],
 "metadata": {
  "kernelspec": {
   "display_name": "Python 3 (ipykernel)",
   "language": "python",
   "name": "python3"
  },
  "language_info": {
   "codemirror_mode": {
    "name": "ipython",
    "version": 3
   },
   "file_extension": ".py",
   "mimetype": "text/x-python",
   "name": "python",
   "nbconvert_exporter": "python",
   "pygments_lexer": "ipython3",
   "version": "3.10.8"
  }
 },
 "nbformat": 4,
 "nbformat_minor": 5
}
